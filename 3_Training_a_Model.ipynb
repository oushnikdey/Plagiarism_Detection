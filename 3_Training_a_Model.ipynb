{
 "cells": [
  {
   "cell_type": "markdown",
   "metadata": {},
   "source": [
    "# Plagiarism Detection Model\n",
    "\n",
    "Now that you've created training and test data, you are ready to define and train a model. Your goal in this notebook, will be to train a binary classification model that learns to label an answer file as either plagiarized or not, based on the features you provide the model.\n",
    "\n",
    "This task will be broken down into a few discrete steps:\n",
    "\n",
    "* Upload your data to S3.\n",
    "* Define a binary classification model and a training script.\n",
    "* Train your model and deploy it.\n",
    "* Evaluate your deployed classifier and answer some questions about your approach.\n",
    "\n",
    "To complete this notebook, you'll have to complete all given exercises and answer all the questions in this notebook.\n",
    "> All your tasks will be clearly labeled **EXERCISE** and questions as **QUESTION**.\n",
    "\n",
    "It will be up to you to explore different classification models and decide on a model that gives you the best performance for this dataset.\n",
    "\n",
    "---"
   ]
  },
  {
   "cell_type": "markdown",
   "metadata": {},
   "source": [
    "## Load Data to S3\n",
    "\n",
    "In the last notebook, you should have created two files: a `training.csv` and `test.csv` file with the features and class labels for the given corpus of plagiarized/non-plagiarized text data. \n",
    "\n",
    ">The below cells load in some AWS SageMaker libraries and creates a default bucket. After creating this bucket, you can upload your locally stored data to S3.\n",
    "\n",
    "Save your train and test `.csv` feature files, locally. To do this you can run the second notebook \"2_Plagiarism_Feature_Engineering\" in SageMaker or you can manually upload your files to this notebook using the upload icon in Jupyter Lab. Then you can upload local files to S3 by using `sagemaker_session.upload_data` and pointing directly to where the training data is saved."
   ]
  },
  {
   "cell_type": "code",
   "execution_count": 1,
   "metadata": {},
   "outputs": [],
   "source": [
    "import pandas as pd\n",
    "import boto3\n",
    "import sagemaker"
   ]
  },
  {
   "cell_type": "code",
   "execution_count": 2,
   "metadata": {},
   "outputs": [],
   "source": [
    "\"\"\"\n",
    "DON'T MODIFY ANYTHING IN THIS CELL THAT IS BELOW THIS LINE\n",
    "\"\"\"\n",
    "# session and role\n",
    "sagemaker_session = sagemaker.Session()\n",
    "role = sagemaker.get_execution_role()\n",
    "\n",
    "# create an S3 bucket\n",
    "bucket = sagemaker_session.default_bucket()"
   ]
  },
  {
   "cell_type": "markdown",
   "metadata": {},
   "source": [
    "## EXERCISE: Upload your training data to S3\n",
    "\n",
    "Specify the `data_dir` where you've saved your `train.csv` file. Decide on a descriptive `prefix` that defines where your data will be uploaded in the default S3 bucket. Finally, create a pointer to your training data by calling `sagemaker_session.upload_data` and passing in the required parameters. It may help to look at the [Session documentation](https://sagemaker.readthedocs.io/en/stable/session.html#sagemaker.session.Session.upload_data) or previous SageMaker code examples.\n",
    "\n",
    "You are expected to upload your entire directory. Later, the training script will only access the `train.csv` file."
   ]
  },
  {
   "cell_type": "code",
   "execution_count": 47,
   "metadata": {},
   "outputs": [
    {
     "name": "stdout",
     "output_type": "stream",
     "text": [
      "s3://sagemaker-eu-west-1-961618251897/plagiarism_data\n"
     ]
    }
   ],
   "source": [
    "# should be the name of directory you created to save your features data\n",
    "data_dir = 'plagiarism_data'\n",
    "\n",
    "# set prefix, a descriptive name for a directory  \n",
    "prefix = 'plagiarism_data'\n",
    "\n",
    "# upload all data to S3\n",
    "input_data = sagemaker_session.upload_data(path=data_dir, bucket=bucket, key_prefix=prefix)\n",
    "print(input_data)"
   ]
  },
  {
   "cell_type": "markdown",
   "metadata": {},
   "source": [
    "### Test cell\n",
    "\n",
    "Test that your data has been successfully uploaded. The below cell prints out the items in your S3 bucket and will throw an error if it is empty. You should see the contents of your `data_dir` and perhaps some checkpoints. If you see any other files listed, then you may have some old model files that you can delete via the S3 console (though, additional files shouldn't affect the performance of model developed in this notebook)."
   ]
  },
  {
   "cell_type": "code",
   "execution_count": 48,
   "metadata": {},
   "outputs": [
    {
     "name": "stdout",
     "output_type": "stream",
     "text": [
      "Scikit-iris/data/iris.csv\n",
      "TorchVision-ResNet18-Neo-2019-09-02-12-23-59-290/model/model.tar.gz\n",
      "ai-platform-sagemaker-custom-framework-2019-11-06-11-47-57-241/source/sourcedir.tar.gz\n",
      "ai-platform-sagemaker-custom-framework-2019-11-06-11-48-19-339/source/sourcedir.tar.gz\n",
      "ai-platform-sagemaker-custom-framework-2019-11-06-11-49-11-061/source/sourcedir.tar.gz\n",
      "ai-platform-sagemaker-custom-framework-2019-11-06-15-34-53-242/source/sourcedir.tar.gz\n",
      "ai-platform-sagemaker-custom-framework-2019-11-06-15-35-43-120/output/model.tar.gz\n",
      "ai-platform-sagemaker-custom-framework-2019-11-06-15-35-43-120/source/sourcedir.tar.gz\n",
      "ai-platform-sagemaker-custom-framework-2019-11-06-15-59-18-322/iris_sample_X_0.csv.out\n",
      "ai-platform-sagemaker-custom-framework-2019-11-06-15-59-18-322/iris_sample_X_1.csv.out\n",
      "ai-platform-sagemaker-custom-framework-2019-11-06-15-59-18-322/iris_sample_X_2.csv.out\n",
      "ai-platform-sagemaker-custom-framework-2019-11-06-15-59-18-322/iris_sample_X_3.csv.out\n",
      "ai-platform-sagemaker-custom-framework-2019-11-06-15-59-18-322/iris_sample_X_4.csv.out\n",
      "ai-platform-sagemaker-custom-framework-2019-11-06-15-59-18-322/iris_sample_X_5.csv.out\n",
      "ai-platform-sagemaker-custom-framework-2019-11-06-15-59-18-322/iris_sample_X_6.csv.out\n",
      "ai-platform-sagemaker-custom-framework-2019-11-06-15-59-18-322/iris_sample_X_7.csv.out\n",
      "ai-platform-sagemaker-custom-framework-2019-11-06-15-59-18-322/iris_sample_X_8.csv.out\n",
      "ai-platform-sagemaker-custom-framework-2019-11-06-15-59-18-322/iris_sample_X_9.csv.out\n",
      "data/DEMO-mnist/t10k-images-idx3-ubyte.gz\n",
      "data/DEMO-mnist/t10k-labels-idx1-ubyte.gz\n",
      "data/DEMO-mnist/test.tfrecords\n",
      "data/DEMO-mnist/train-images-idx3-ubyte.gz\n",
      "data/DEMO-mnist/train-labels-idx1-ubyte.gz\n",
      "data/DEMO-mnist/train.tfrecords\n",
      "data/DEMO-mnist/validation.tfrecords\n",
      "data/DEMO-sentiment/test\n",
      "data/DEMO-sentiment/train\n",
      "kmeans_example/output/kmeans-2019-11-05-09-57-49-943/output/model.tar.gz\n",
      "kmeans_highlevel_example/dataKMeans-2019-11-05-09-57-40-711/.amazon.manifest\n",
      "kmeans_highlevel_example/dataKMeans-2019-11-05-09-57-40-711/matrix_0.pbr\n",
      "kmeans_highlevel_example/dataKMeans-2019-11-05-09-57-40-711/matrix_1.pbr\n",
      "mlops/iris/data/iris_test.csv\n",
      "mlops/iris/data/iris_train.csv\n",
      "mlops/iris/output/xgboost-2019-08-22-14-44-41-405/output/model.tar.gz\n",
      "mxnet-training-2019-11-06-11-02-10-965/model.tar.gz\n",
      "mxnet-training-2019-11-06-11-02-10-965/output/model.tar.gz\n",
      "mxnet-training-2019-11-06-11-02-10-965/source/sourcedir.tar.gz\n",
      "plagiarism_data/test.csv\n",
      "plagiarism_data/train.csv\n",
      "sagemaker-pytorch-2019-09-05-13-51-36-721/output/model.tar.gz\n",
      "sagemaker-pytorch-2019-09-05-13-51-36-721/source/sourcedir.tar.gz\n",
      "sagemaker-pytorch-2019-10-13-16-53-44-552/output/model.tar.gz\n",
      "sagemaker-pytorch-2019-10-13-16-53-44-552/source/sourcedir.tar.gz\n",
      "sagemaker-pytorch-2019-10-13-18-15-09-809/output/model.tar.gz\n",
      "sagemaker-pytorch-2019-10-13-18-15-09-809/source/sourcedir.tar.gz\n",
      "sagemaker-pytorch-2019-10-13-18-47-44-606/sourcedir.tar.gz\n",
      "sagemaker-pytorch-2019-10-13-18-59-35-714/sourcedir.tar.gz\n",
      "sagemaker-pytorch-2019-10-21-17-46-41-392/output/model.tar.gz\n",
      "sagemaker-pytorch-2019-10-21-17-46-41-392/source/sourcedir.tar.gz\n",
      "sagemaker-pytorch-2019-10-21-18-16-01-559/output/model.tar.gz\n",
      "sagemaker-pytorch-2019-10-21-18-16-01-559/source/sourcedir.tar.gz\n",
      "sagemaker-pytorch-2019-10-21-18-45-20-519/sourcedir.tar.gz\n",
      "sagemaker-pytorch-2019-10-21-19-04-39-501/sourcedir.tar.gz\n",
      "sagemaker-pytorch-2019-10-21-19-17-57-082/sourcedir.tar.gz\n",
      "sagemaker-pytorch-2019-10-22-15-35-09-610/output/model.tar.gz\n",
      "sagemaker-pytorch-2019-10-22-15-35-09-610/source/sourcedir.tar.gz\n",
      "sagemaker-pytorch-2019-10-22-15-53-48-285/sourcedir.tar.gz\n",
      "sagemaker-pytorch-2019-11-01-13-32-30-420/output/model.tar.gz\n",
      "sagemaker-pytorch-2019-11-01-13-32-30-420/source/sourcedir.tar.gz\n",
      "sagemaker-pytorch-2019-11-01-13-37-09-547/output/model.tar.gz\n",
      "sagemaker-pytorch-2019-11-01-13-37-09-547/source/sourcedir.tar.gz\n",
      "sagemaker-pytorch-2019-11-01-13-40-46-578/sourcedir.tar.gz\n",
      "sagemaker-record-sets/KMeans-2019-11-01-11-36-18-330/.amazon.manifest\n",
      "sagemaker-record-sets/KMeans-2019-11-01-11-36-18-330/matrix_0.pbr\n",
      "sagemaker-record-sets/LinearLearner-2019-11-01-12-16-14-614/.amazon.manifest\n",
      "sagemaker-record-sets/LinearLearner-2019-11-01-12-16-14-614/matrix_0.pbr\n",
      "sagemaker-record-sets/PCA-2019-10-27-10-26-47-813/.amazon.manifest\n",
      "sagemaker-record-sets/PCA-2019-10-27-10-26-47-813/matrix_0.pbr\n",
      "sagemaker-record-sets/PCA-2019-11-01-11-12-26-843/.amazon.manifest\n",
      "sagemaker-record-sets/PCA-2019-11-01-11-12-26-843/matrix_0.pbr\n",
      "sagemaker-scikit-learn-2019-11-10-11-54-56-777/source/sourcedir.tar.gz\n",
      "sagemaker-scikit-learn-2019-11-10-11-58-57-045/source/sourcedir.tar.gz\n",
      "sagemaker-scikit-learn-2019-11-10-12-01-54-060/source/sourcedir.tar.gz\n",
      "sagemaker-scikit-learn-2019-11-10-12-06-02-340/output/model.tar.gz\n",
      "sagemaker-scikit-learn-2019-11-10-12-06-02-340/source/sourcedir.tar.gz\n",
      "sagemaker-scikit-learn-2019-11-10-12-29-37-615/output/model.tar.gz\n",
      "sagemaker-scikit-learn-2019-11-10-12-29-37-615/source/sourcedir.tar.gz\n",
      "sagemaker-scikit-learn-2019-11-10-12-51-21-138/output/model.tar.gz\n",
      "sagemaker-scikit-learn-2019-11-10-12-51-21-138/source/sourcedir.tar.gz\n",
      "sagemaker-tensorflow-2019-09-05-10-28-21-261/checkpoints/\n",
      "sagemaker-tensorflow-2019-09-05-10-28-21-261/checkpoints/checkpoint\n",
      "sagemaker-tensorflow-2019-09-05-10-28-21-261/checkpoints/eval/\n",
      "sagemaker-tensorflow-2019-09-05-10-28-21-261/checkpoints/eval/events.out.tfevents.1567679535.ip-10-0-254-148.eu-west-1.compute.internal\n",
      "sagemaker-tensorflow-2019-09-05-10-28-21-261/checkpoints/events.out.tfevents.1567679451.ip-10-0-254-148.eu-west-1.compute.internal\n",
      "sagemaker-tensorflow-2019-09-05-10-28-21-261/checkpoints/events.out.tfevents.1567679457.ip-10-0-220-235.eu-west-1.compute.internal\n",
      "sagemaker-tensorflow-2019-09-05-10-28-21-261/checkpoints/export/\n",
      "sagemaker-tensorflow-2019-09-05-10-28-21-261/checkpoints/export/Servo/\n",
      "sagemaker-tensorflow-2019-09-05-10-28-21-261/checkpoints/export/Servo/1567679535/\n",
      "sagemaker-tensorflow-2019-09-05-10-28-21-261/checkpoints/export/Servo/1567679535/saved_model.pb\n",
      "sagemaker-tensorflow-2019-09-05-10-28-21-261/checkpoints/export/Servo/1567679535/variables/\n",
      "sagemaker-tensorflow-2019-09-05-10-28-21-261/checkpoints/export/Servo/1567679535/variables/variables.data-00000-of-00001\n",
      "sagemaker-tensorflow-2019-09-05-10-28-21-261/checkpoints/export/Servo/1567679535/variables/variables.index\n",
      "sagemaker-tensorflow-2019-09-05-10-28-21-261/checkpoints/graph.pbtxt\n",
      "sagemaker-tensorflow-2019-09-05-10-28-21-261/checkpoints/model.ckpt-0.data-00000-of-00002\n",
      "sagemaker-tensorflow-2019-09-05-10-28-21-261/checkpoints/model.ckpt-0.data-00001-of-00002\n",
      "sagemaker-tensorflow-2019-09-05-10-28-21-261/checkpoints/model.ckpt-0.index\n",
      "sagemaker-tensorflow-2019-09-05-10-28-21-261/checkpoints/model.ckpt-0.meta\n",
      "sagemaker-tensorflow-2019-09-05-10-28-21-261/checkpoints/model.ckpt-1001.data-00000-of-00002\n",
      "sagemaker-tensorflow-2019-09-05-10-28-21-261/checkpoints/model.ckpt-1001.data-00001-of-00002\n",
      "sagemaker-tensorflow-2019-09-05-10-28-21-261/checkpoints/model.ckpt-1001.index\n",
      "sagemaker-tensorflow-2019-09-05-10-28-21-261/checkpoints/model.ckpt-1001.meta\n",
      "sagemaker-tensorflow-2019-09-05-10-28-21-261/output/model.tar.gz\n",
      "sagemaker-tensorflow-2019-09-05-10-28-21-261/source/sourcedir.tar.gz\n",
      "sagemaker/moon-data/train.csv\n",
      "sagemaker/sentiment_rnn/train.csv\n",
      "sagemaker/sentiment_rnn/word_dict.pkl\n",
      "sentiment-update/new_data.csv\n",
      "sentiment-update/new_train.csv\n",
      "sentiment-update/new_validation.csv\n",
      "sentiment-update/output/xgboost-2019-10-13-14-17-11-229/output/model.tar.gz\n",
      "sentiment-update/output/xgboost-2019-10-13-14-50-43-551/output/model.tar.gz\n",
      "sentiment-update/test.csv\n",
      "sentiment-update/train.csv\n",
      "sentiment-update/validation.csv\n",
      "sentiment-xgboost/output/xgboost-191013-1049-001-a54f6d91/output/model.tar.gz\n",
      "sentiment-xgboost/output/xgboost-191013-1049-002-774926e9/output/model.tar.gz\n",
      "sentiment-xgboost/output/xgboost-191013-1049-003-8f33996b/output/model.tar.gz\n",
      "sentiment-xgboost/output/xgboost-191013-1049-004-26cd7112/output/model.tar.gz\n",
      "sentiment-xgboost/output/xgboost-191013-1049-005-0d6eb264/output/model.tar.gz\n",
      "sentiment-xgboost/output/xgboost-191013-1049-006-d07ed427/output/model.tar.gz\n",
      "sentiment-xgboost/output/xgboost-2019-10-12-15-53-22-259/output/model.tar.gz\n",
      "sentiment-xgboost/test.csv\n",
      "sentiment-xgboost/train.csv\n",
      "sentiment-xgboost/validation.csv\n",
      "workshop/train/recordio-pb-data\n",
      "xgboost-191013-1049-001-a54f6d91-2019-10-13-11-29-08-186/test.csv.out\n",
      "xgboost-2019-10-12-16-01-20-471/test.csv.out\n",
      "xgboost-2019-10-13-14-23-50-036/test.csv.out\n",
      "xgboost-2019-10-13-14-31-32-085/new_data.csv.out\n",
      "xgboost-2019-10-13-14-56-04-703/new_data.csv.out\n",
      "xgboost-2019-10-13-15-02-46-261/test.csv.out\n",
      "xgboost-2019-11-08-12-37-00-872/test.out\n",
      "Test passed!\n"
     ]
    }
   ],
   "source": [
    "\"\"\"\n",
    "DON'T MODIFY ANYTHING IN THIS CELL THAT IS BELOW THIS LINE\n",
    "\"\"\"\n",
    "# confirm that data is in S3 bucket\n",
    "empty_check = []\n",
    "for obj in boto3.resource('s3').Bucket(bucket).objects.all():\n",
    "    empty_check.append(obj.key)\n",
    "    print(obj.key)\n",
    "\n",
    "assert len(empty_check) !=0, 'S3 bucket is empty.'\n",
    "print('Test passed!')"
   ]
  },
  {
   "cell_type": "markdown",
   "metadata": {},
   "source": [
    "---\n",
    "\n",
    "# Modeling\n",
    "\n",
    "Now that you've uploaded your training data, it's time to define and train a model!\n",
    "\n",
    "The type of model you create is up to you. For a binary classification task, you can choose to go one of three routes:\n",
    "* Use a built-in classification algorithm, like LinearLearner.\n",
    "* Define a custom Scikit-learn classifier, a comparison of models can be found [here](https://scikit-learn.org/stable/auto_examples/classification/plot_classifier_comparison.html).\n",
    "* Define a custom PyTorch neural network classifier. \n",
    "\n",
    "It will be up to you to test out a variety of models and choose the best one. Your project will be graded on the accuracy of your final model. \n",
    " \n",
    "---\n",
    "\n",
    "## EXERCISE: Complete a training script \n",
    "\n",
    "To implement a custom classifier, you'll need to complete a `train.py` script. You've been given the folders `source_sklearn` and `source_pytorch` which hold starting code for a custom Scikit-learn model and a PyTorch model, respectively. Each directory has a `train.py` training script. To complete this project **you only need to complete one of these scripts**; the script that is responsible for training your final model.\n",
    "\n",
    "A typical training script:\n",
    "* Loads training data from a specified directory\n",
    "* Parses any training & model hyperparameters (ex. nodes in a neural network, training epochs, etc.)\n",
    "* Instantiates a model of your design, with any specified hyperparams\n",
    "* Trains that model \n",
    "* Finally, saves the model so that it can be hosted/deployed, later\n",
    "\n",
    "### Defining and training a model\n",
    "Much of the training script code is provided for you. Almost all of your work will be done in the `if __name__ == '__main__':` section. To complete a `train.py` file, you will:\n",
    "1. Import any extra libraries you need\n",
    "2. Define any additional model training hyperparameters using `parser.add_argument`\n",
    "2. Define a model in the `if __name__ == '__main__':` section\n",
    "3. Train the model in that same section\n",
    "\n",
    "Below, you can use `!pygmentize` to display an existing `train.py` file. Read through the code; all of your tasks are marked with `TODO` comments. \n",
    "\n",
    "**Note: If you choose to create a custom PyTorch model, you will be responsible for defining the model in the `model.py` file,** and a `predict.py` file is provided. If you choose to use Scikit-learn, you only need a `train.py` file; you may import a classifier from the `sklearn` library."
   ]
  },
  {
   "cell_type": "code",
   "execution_count": 49,
   "metadata": {},
   "outputs": [
    {
     "name": "stdout",
     "output_type": "stream",
     "text": [
      "\u001b[34mfrom\u001b[39;49;00m \u001b[04m\u001b[36m__future__\u001b[39;49;00m \u001b[34mimport\u001b[39;49;00m print_function\r\n",
      "\r\n",
      "\u001b[34mimport\u001b[39;49;00m \u001b[04m\u001b[36margparse\u001b[39;49;00m\r\n",
      "\u001b[34mimport\u001b[39;49;00m \u001b[04m\u001b[36mos\u001b[39;49;00m\r\n",
      "\u001b[34mimport\u001b[39;49;00m \u001b[04m\u001b[36mpandas\u001b[39;49;00m \u001b[34mas\u001b[39;49;00m \u001b[04m\u001b[36mpd\u001b[39;49;00m\r\n",
      "\r\n",
      "\u001b[34mfrom\u001b[39;49;00m \u001b[04m\u001b[36msklearn.externals\u001b[39;49;00m \u001b[34mimport\u001b[39;49;00m joblib\r\n",
      "\r\n",
      "\u001b[37m## TODO: Import any additional libraries you need to define a model\u001b[39;49;00m\r\n",
      "\u001b[34mfrom\u001b[39;49;00m \u001b[04m\u001b[36msklearn.ensemble\u001b[39;49;00m \u001b[34mimport\u001b[39;49;00m AdaBoostClassifier\r\n",
      "\r\n",
      "\u001b[37m# Provided model load function\u001b[39;49;00m\r\n",
      "\u001b[34mdef\u001b[39;49;00m \u001b[32mmodel_fn\u001b[39;49;00m(model_dir):\r\n",
      "    \u001b[33m\"\"\"Load model from the model_dir. This is the same model that is saved\u001b[39;49;00m\r\n",
      "\u001b[33m    in the main if statement.\u001b[39;49;00m\r\n",
      "\u001b[33m    \"\"\"\u001b[39;49;00m\r\n",
      "    \u001b[34mprint\u001b[39;49;00m(\u001b[33m\"\u001b[39;49;00m\u001b[33mLoading model.\u001b[39;49;00m\u001b[33m\"\u001b[39;49;00m)\r\n",
      "    \r\n",
      "    \u001b[37m# load using joblib\u001b[39;49;00m\r\n",
      "    model = joblib.load(os.path.join(model_dir, \u001b[33m\"\u001b[39;49;00m\u001b[33mmodel.joblib\u001b[39;49;00m\u001b[33m\"\u001b[39;49;00m))\r\n",
      "    \u001b[34mprint\u001b[39;49;00m(\u001b[33m\"\u001b[39;49;00m\u001b[33mDone loading model.\u001b[39;49;00m\u001b[33m\"\u001b[39;49;00m)\r\n",
      "    \r\n",
      "    \u001b[34mreturn\u001b[39;49;00m model\r\n",
      "\r\n",
      "\r\n",
      "\u001b[37m## TODO: Complete the main code\u001b[39;49;00m\r\n",
      "\u001b[34mif\u001b[39;49;00m \u001b[31m__name__\u001b[39;49;00m == \u001b[33m'\u001b[39;49;00m\u001b[33m__main__\u001b[39;49;00m\u001b[33m'\u001b[39;49;00m:\r\n",
      "    \r\n",
      "    \u001b[37m# All of the model parameters and training parameters are sent as arguments\u001b[39;49;00m\r\n",
      "    \u001b[37m# when this script is executed, during a training job\u001b[39;49;00m\r\n",
      "    \r\n",
      "    \u001b[37m# Here we set up an argument parser to easily access the parameters\u001b[39;49;00m\r\n",
      "    parser = argparse.ArgumentParser()\r\n",
      "\r\n",
      "    \u001b[37m# SageMaker parameters, like the directories for training data and saving models; set automatically\u001b[39;49;00m\r\n",
      "    \u001b[37m# Do not need to change\u001b[39;49;00m\r\n",
      "    parser.add_argument(\u001b[33m'\u001b[39;49;00m\u001b[33m--output-data-dir\u001b[39;49;00m\u001b[33m'\u001b[39;49;00m, \u001b[36mtype\u001b[39;49;00m=\u001b[36mstr\u001b[39;49;00m, default=os.environ[\u001b[33m'\u001b[39;49;00m\u001b[33mSM_OUTPUT_DATA_DIR\u001b[39;49;00m\u001b[33m'\u001b[39;49;00m])\r\n",
      "    parser.add_argument(\u001b[33m'\u001b[39;49;00m\u001b[33m--model-dir\u001b[39;49;00m\u001b[33m'\u001b[39;49;00m, \u001b[36mtype\u001b[39;49;00m=\u001b[36mstr\u001b[39;49;00m, default=os.environ[\u001b[33m'\u001b[39;49;00m\u001b[33mSM_MODEL_DIR\u001b[39;49;00m\u001b[33m'\u001b[39;49;00m])\r\n",
      "    parser.add_argument(\u001b[33m'\u001b[39;49;00m\u001b[33m--data-dir\u001b[39;49;00m\u001b[33m'\u001b[39;49;00m, \u001b[36mtype\u001b[39;49;00m=\u001b[36mstr\u001b[39;49;00m, default=os.environ[\u001b[33m'\u001b[39;49;00m\u001b[33mSM_CHANNEL_TRAIN\u001b[39;49;00m\u001b[33m'\u001b[39;49;00m])\r\n",
      "    \r\n",
      "    \u001b[37m## TODO: Add any additional arguments that you will need to pass into your model\u001b[39;49;00m\r\n",
      "    parser.add_argument(\u001b[33m'\u001b[39;49;00m\u001b[33m--n_estimators\u001b[39;49;00m\u001b[33m'\u001b[39;49;00m, \u001b[36mtype\u001b[39;49;00m=\u001b[36mint\u001b[39;49;00m, default=\u001b[34m50\u001b[39;49;00m)\r\n",
      "    parser.add_argument(\u001b[33m'\u001b[39;49;00m\u001b[33m--learning_rate\u001b[39;49;00m\u001b[33m'\u001b[39;49;00m, \u001b[36mtype\u001b[39;49;00m=\u001b[36mfloat\u001b[39;49;00m, default=\u001b[34m0.01\u001b[39;49;00m)\r\n",
      "    \r\n",
      "    \u001b[37m# args holds all passed-in arguments\u001b[39;49;00m\r\n",
      "    args = parser.parse_args()\r\n",
      "\r\n",
      "    \u001b[37m# Read in csv training file\u001b[39;49;00m\r\n",
      "    training_dir = args.data_dir\r\n",
      "    train_data = pd.read_csv(os.path.join(training_dir, \u001b[33m\"\u001b[39;49;00m\u001b[33mtrain.csv\u001b[39;49;00m\u001b[33m\"\u001b[39;49;00m), header=\u001b[36mNone\u001b[39;49;00m, names=\u001b[36mNone\u001b[39;49;00m)\r\n",
      "\r\n",
      "    \u001b[37m# Labels are in the first column\u001b[39;49;00m\r\n",
      "    train_y = train_data.iloc[:,\u001b[34m0\u001b[39;49;00m]\r\n",
      "    train_x = train_data.iloc[:,\u001b[34m1\u001b[39;49;00m:]\r\n",
      "    \r\n",
      "    \r\n",
      "    \u001b[37m## --- Your code here --- ##\u001b[39;49;00m\r\n",
      "    \r\n",
      "\r\n",
      "    \u001b[37m## TODO: Define a model \u001b[39;49;00m\r\n",
      "    model = AdaBoostClassifier(n_estimators=args.n_estimators, learning_rate=args.learning_rate ,random_state=\u001b[34m0\u001b[39;49;00m)\r\n",
      "    \r\n",
      "    \r\n",
      "    \u001b[37m## TODO: Train the model\u001b[39;49;00m\r\n",
      "    model.fit(train_x, train_y)\r\n",
      "    \r\n",
      "    \r\n",
      "    \u001b[37m## --- End of your code  --- ##\u001b[39;49;00m\r\n",
      "    \r\n",
      "\r\n",
      "    \u001b[37m# Save the trained model\u001b[39;49;00m\r\n",
      "    joblib.dump(model, os.path.join(args.model_dir, \u001b[33m\"\u001b[39;49;00m\u001b[33mmodel.joblib\u001b[39;49;00m\u001b[33m\"\u001b[39;49;00m))\r\n"
     ]
    }
   ],
   "source": [
    "# directory can be changed to: source_sklearn or source_pytorch\n",
    "!pygmentize source_sklearn/train.py"
   ]
  },
  {
   "cell_type": "markdown",
   "metadata": {},
   "source": [
    "### Provided code\n",
    "\n",
    "If you read the code above, you can see that the starter code includes a few things:\n",
    "* Model loading (`model_fn`) and saving code\n",
    "* Getting SageMaker's default hyperparameters\n",
    "* Loading the training data by name, `train.csv` and extracting the features and labels, `train_x`, and `train_y`\n",
    "\n",
    "If you'd like to read more about model saving with [joblib for sklearn](https://scikit-learn.org/stable/modules/model_persistence.html) or with [torch.save](https://pytorch.org/tutorials/beginner/saving_loading_models.html), click on the provided links."
   ]
  },
  {
   "cell_type": "markdown",
   "metadata": {},
   "source": [
    "---\n",
    "# Create an Estimator\n",
    "\n",
    "When a custom model is constructed in SageMaker, an entry point must be specified. This is the Python file which will be executed when the model is trained; the `train.py` function you specified above. To run a custom training script in SageMaker, construct an estimator, and fill in the appropriate constructor arguments:\n",
    "\n",
    "* **entry_point**: The path to the Python script SageMaker runs for training and prediction.\n",
    "* **source_dir**: The path to the training script directory `source_sklearn` OR `source_pytorch`.\n",
    "* **entry_point**: The path to the Python script SageMaker runs for training and prediction.\n",
    "* **source_dir**: The path to the training script directory `train_sklearn` OR `train_pytorch`.\n",
    "* **entry_point**: The path to the Python script SageMaker runs for training.\n",
    "* **source_dir**: The path to the training script directory `train_sklearn` OR `train_pytorch`.\n",
    "* **role**: Role ARN, which was specified, above.\n",
    "* **train_instance_count**: The number of training instances (should be left at 1).\n",
    "* **train_instance_type**: The type of SageMaker instance for training. Note: Because Scikit-learn does not natively support GPU training, Sagemaker Scikit-learn does not currently support training on GPU instance types.\n",
    "* **sagemaker_session**: The session used to train on Sagemaker.\n",
    "* **hyperparameters** (optional): A dictionary `{'name':value, ..}` passed to the train function as hyperparameters.\n",
    "\n",
    "Note: For a PyTorch model, there is another optional argument **framework_version**, which you can set to the latest version of PyTorch, `1.0`.\n",
    "\n",
    "## EXERCISE: Define a Scikit-learn or PyTorch estimator\n",
    "\n",
    "To import your desired estimator, use one of the following lines:\n",
    "```\n",
    "from sagemaker.sklearn.estimator import SKLearn\n",
    "```\n",
    "```\n",
    "from sagemaker.pytorch import PyTorch\n",
    "```"
   ]
  },
  {
   "cell_type": "code",
   "execution_count": 50,
   "metadata": {},
   "outputs": [],
   "source": [
    "\n",
    "# your import and estimator code, here\n",
    "from sagemaker.sklearn.estimator import SKLearn\n",
    "\n",
    "estimator = SKLearn(\n",
    "    entry_point=\"train.py\",\n",
    "    source_dir=\"source_sklearn\",\n",
    "    train_instance_type=\"ml.c4.xlarge\",\n",
    "    role=role,\n",
    "    sagemaker_session=sagemaker_session,\n",
    "    hyperparameters={'n_estimators': 50 , 'learning_rate':0.01})"
   ]
  },
  {
   "cell_type": "markdown",
   "metadata": {},
   "source": [
    "## EXERCISE: Train the estimator\n",
    "\n",
    "Train your estimator on the training data stored in S3. This should create a training job that you can monitor in your SageMaker console."
   ]
  },
  {
   "cell_type": "code",
   "execution_count": 51,
   "metadata": {},
   "outputs": [
    {
     "name": "stdout",
     "output_type": "stream",
     "text": [
      "2019-11-10 13:10:04 Starting - Starting the training job...\n",
      "2019-11-10 13:10:05 Starting - Launching requested ML instances...\n",
      "2019-11-10 13:11:03 Starting - Preparing the instances for training......\n",
      "2019-11-10 13:11:58 Downloading - Downloading input data...\n",
      "2019-11-10 13:12:39 Training - Training image download completed. Training in progress.\n",
      "2019-11-10 13:12:39 Uploading - Uploading generated training model\n",
      "2019-11-10 13:12:39 Completed - Training job completed\n",
      "\u001b[31m2019-11-10 13:12:29,279 sagemaker-containers INFO     Imported framework sagemaker_sklearn_container.training\u001b[0m\n",
      "\u001b[31m2019-11-10 13:12:29,281 sagemaker-containers INFO     No GPUs detected (normal if no gpus installed)\u001b[0m\n",
      "\u001b[31m2019-11-10 13:12:29,291 sagemaker_sklearn_container.training INFO     Invoking user training script.\u001b[0m\n",
      "\u001b[31m2019-11-10 13:12:29,576 sagemaker-containers INFO     Module train does not provide a setup.py. \u001b[0m\n",
      "\u001b[31mGenerating setup.py\u001b[0m\n",
      "\u001b[31m2019-11-10 13:12:29,577 sagemaker-containers INFO     Generating setup.cfg\u001b[0m\n",
      "\u001b[31m2019-11-10 13:12:29,577 sagemaker-containers INFO     Generating MANIFEST.in\u001b[0m\n",
      "\u001b[31m2019-11-10 13:12:29,577 sagemaker-containers INFO     Installing module with the following command:\u001b[0m\n",
      "\u001b[31m/miniconda3/bin/python -m pip install . \u001b[0m\n",
      "\u001b[31mProcessing /opt/ml/code\u001b[0m\n",
      "\u001b[31mBuilding wheels for collected packages: train\n",
      "  Building wheel for train (setup.py): started\n",
      "  Building wheel for train (setup.py): finished with status 'done'\n",
      "  Created wheel for train: filename=train-1.0.0-py2.py3-none-any.whl size=5963 sha256=46baf8d769b5df45b6ded652987e977e566a2ae8687f547b3d5b4032e4c65e07\n",
      "  Stored in directory: /tmp/pip-ephem-wheel-cache-6_hgbnwu/wheels/35/24/16/37574d11bf9bde50616c67372a334f94fa8356bc7164af8ca3\u001b[0m\n",
      "\u001b[31mSuccessfully built train\u001b[0m\n",
      "\u001b[31mInstalling collected packages: train\u001b[0m\n",
      "\u001b[31mSuccessfully installed train-1.0.0\u001b[0m\n",
      "\u001b[31m2019-11-10 13:12:31,011 sagemaker-containers INFO     No GPUs detected (normal if no gpus installed)\u001b[0m\n",
      "\u001b[31m2019-11-10 13:12:31,023 sagemaker-containers INFO     Invoking user script\n",
      "\u001b[0m\n",
      "\u001b[31mTraining Env:\n",
      "\u001b[0m\n",
      "\u001b[31m{\n",
      "    \"additional_framework_parameters\": {},\n",
      "    \"channel_input_dirs\": {\n",
      "        \"train\": \"/opt/ml/input/data/train\"\n",
      "    },\n",
      "    \"current_host\": \"algo-1\",\n",
      "    \"framework_module\": \"sagemaker_sklearn_container.training:main\",\n",
      "    \"hosts\": [\n",
      "        \"algo-1\"\n",
      "    ],\n",
      "    \"hyperparameters\": {\n",
      "        \"n_estimators\": 50,\n",
      "        \"learning_rate\": 0.01\n",
      "    },\n",
      "    \"input_config_dir\": \"/opt/ml/input/config\",\n",
      "    \"input_data_config\": {\n",
      "        \"train\": {\n",
      "            \"TrainingInputMode\": \"File\",\n",
      "            \"S3DistributionType\": \"FullyReplicated\",\n",
      "            \"RecordWrapperType\": \"None\"\n",
      "        }\n",
      "    },\n",
      "    \"input_dir\": \"/opt/ml/input\",\n",
      "    \"is_master\": true,\n",
      "    \"job_name\": \"sagemaker-scikit-learn-2019-11-10-13-10-04-257\",\n",
      "    \"log_level\": 20,\n",
      "    \"master_hostname\": \"algo-1\",\n",
      "    \"model_dir\": \"/opt/ml/model\",\n",
      "    \"module_dir\": \"s3://sagemaker-eu-west-1-961618251897/sagemaker-scikit-learn-2019-11-10-13-10-04-257/source/sourcedir.tar.gz\",\n",
      "    \"module_name\": \"train\",\n",
      "    \"network_interface_name\": \"eth0\",\n",
      "    \"num_cpus\": 4,\n",
      "    \"num_gpus\": 0,\n",
      "    \"output_data_dir\": \"/opt/ml/output/data\",\n",
      "    \"output_dir\": \"/opt/ml/output\",\n",
      "    \"output_intermediate_dir\": \"/opt/ml/output/intermediate\",\n",
      "    \"resource_config\": {\n",
      "        \"current_host\": \"algo-1\",\n",
      "        \"hosts\": [\n",
      "            \"algo-1\"\n",
      "        ],\n",
      "        \"network_interface_name\": \"eth0\"\n",
      "    },\n",
      "    \"user_entry_point\": \"train.py\"\u001b[0m\n",
      "\u001b[31m}\n",
      "\u001b[0m\n",
      "\u001b[31mEnvironment variables:\n",
      "\u001b[0m\n",
      "\u001b[31mSM_HOSTS=[\"algo-1\"]\u001b[0m\n",
      "\u001b[31mSM_NETWORK_INTERFACE_NAME=eth0\u001b[0m\n",
      "\u001b[31mSM_HPS={\"learning_rate\":0.01,\"n_estimators\":50}\u001b[0m\n",
      "\u001b[31mSM_USER_ENTRY_POINT=train.py\u001b[0m\n",
      "\u001b[31mSM_FRAMEWORK_PARAMS={}\u001b[0m\n",
      "\u001b[31mSM_RESOURCE_CONFIG={\"current_host\":\"algo-1\",\"hosts\":[\"algo-1\"],\"network_interface_name\":\"eth0\"}\u001b[0m\n",
      "\u001b[31mSM_INPUT_DATA_CONFIG={\"train\":{\"RecordWrapperType\":\"None\",\"S3DistributionType\":\"FullyReplicated\",\"TrainingInputMode\":\"File\"}}\u001b[0m\n",
      "\u001b[31mSM_OUTPUT_DATA_DIR=/opt/ml/output/data\u001b[0m\n",
      "\u001b[31mSM_CHANNELS=[\"train\"]\u001b[0m\n",
      "\u001b[31mSM_CURRENT_HOST=algo-1\u001b[0m\n",
      "\u001b[31mSM_MODULE_NAME=train\u001b[0m\n",
      "\u001b[31mSM_LOG_LEVEL=20\u001b[0m\n",
      "\u001b[31mSM_FRAMEWORK_MODULE=sagemaker_sklearn_container.training:main\u001b[0m\n",
      "\u001b[31mSM_INPUT_DIR=/opt/ml/input\u001b[0m\n",
      "\u001b[31mSM_INPUT_CONFIG_DIR=/opt/ml/input/config\u001b[0m\n",
      "\u001b[31mSM_OUTPUT_DIR=/opt/ml/output\u001b[0m\n",
      "\u001b[31mSM_NUM_CPUS=4\u001b[0m\n",
      "\u001b[31mSM_NUM_GPUS=0\u001b[0m\n",
      "\u001b[31mSM_MODEL_DIR=/opt/ml/model\u001b[0m\n",
      "\u001b[31mSM_MODULE_DIR=s3://sagemaker-eu-west-1-961618251897/sagemaker-scikit-learn-2019-11-10-13-10-04-257/source/sourcedir.tar.gz\u001b[0m\n",
      "\u001b[31mSM_TRAINING_ENV={\"additional_framework_parameters\":{},\"channel_input_dirs\":{\"train\":\"/opt/ml/input/data/train\"},\"current_host\":\"algo-1\",\"framework_module\":\"sagemaker_sklearn_container.training:main\",\"hosts\":[\"algo-1\"],\"hyperparameters\":{\"learning_rate\":0.01,\"n_estimators\":50},\"input_config_dir\":\"/opt/ml/input/config\",\"input_data_config\":{\"train\":{\"RecordWrapperType\":\"None\",\"S3DistributionType\":\"FullyReplicated\",\"TrainingInputMode\":\"File\"}},\"input_dir\":\"/opt/ml/input\",\"is_master\":true,\"job_name\":\"sagemaker-scikit-learn-2019-11-10-13-10-04-257\",\"log_level\":20,\"master_hostname\":\"algo-1\",\"model_dir\":\"/opt/ml/model\",\"module_dir\":\"s3://sagemaker-eu-west-1-961618251897/sagemaker-scikit-learn-2019-11-10-13-10-04-257/source/sourcedir.tar.gz\",\"module_name\":\"train\",\"network_interface_name\":\"eth0\",\"num_cpus\":4,\"num_gpus\":0,\"output_data_dir\":\"/opt/ml/output/data\",\"output_dir\":\"/opt/ml/output\",\"output_intermediate_dir\":\"/opt/ml/output/intermediate\",\"resource_config\":{\"current_host\":\"algo-1\",\"hosts\":[\"algo-1\"],\"network_interface_name\":\"eth0\"},\"user_entry_point\":\"train.py\"}\u001b[0m\n",
      "\u001b[31mSM_USER_ARGS=[\"--learning_rate\",\"0.01\",\"--n_estimators\",\"50\"]\u001b[0m\n",
      "\u001b[31mSM_OUTPUT_INTERMEDIATE_DIR=/opt/ml/output/intermediate\u001b[0m\n",
      "\u001b[31mSM_CHANNEL_TRAIN=/opt/ml/input/data/train\u001b[0m\n",
      "\u001b[31mSM_HP_N_ESTIMATORS=50\u001b[0m\n",
      "\u001b[31mSM_HP_LEARNING_RATE=0.01\u001b[0m\n",
      "\u001b[31mPYTHONPATH=/miniconda3/bin:/miniconda3/lib/python37.zip:/miniconda3/lib/python3.7:/miniconda3/lib/python3.7/lib-dynload:/miniconda3/lib/python3.7/site-packages\n",
      "\u001b[0m\n",
      "\u001b[31mInvoking script with the following command:\n",
      "\u001b[0m\n",
      "\u001b[31m/miniconda3/bin/python -m train --learning_rate 0.01 --n_estimators 50\n",
      "\n",
      "\u001b[0m\n",
      "\u001b[31m/miniconda3/lib/python3.7/site-packages/sklearn/externals/joblib/externals/cloudpickle/cloudpickle.py:47: DeprecationWarning: the imp module is deprecated in favour of importlib; see the module's documentation for alternative uses\n",
      "  import imp\u001b[0m\n",
      "\u001b[31m2019-11-10 13:12:32,481 sagemaker-containers INFO     Reporting training SUCCESS\u001b[0m\n",
      "Training seconds: 41\n",
      "Billable seconds: 41\n",
      "CPU times: user 425 ms, sys: 15.3 ms, total: 440 ms\n",
      "Wall time: 2min 46s\n"
     ]
    }
   ],
   "source": [
    "%%time\n",
    "\n",
    "# Train your estimator on S3 training data\n",
    "estimator.fit({'train': input_data})\n"
   ]
  },
  {
   "cell_type": "markdown",
   "metadata": {},
   "source": [
    "## EXERCISE: Deploy the trained model\n",
    "\n",
    "After training, deploy your model to create a `predictor`. If you're using a PyTorch model, you'll need to create a trained `PyTorchModel` that accepts the trained `<model>.model_data` as an input parameter and points to the provided `source_pytorch/predict.py` file as an entry point. \n",
    "\n",
    "To deploy a trained model, you'll use `<model>.deploy`, which takes in two arguments:\n",
    "* **initial_instance_count**: The number of deployed instances (1).\n",
    "* **instance_type**: The type of SageMaker instance for deployment.\n",
    "\n",
    "Note: If you run into an instance error, it may be because you chose the wrong training or deployment instance_type. It may help to refer to your previous exercise code to see which types of instances we used."
   ]
  },
  {
   "cell_type": "code",
   "execution_count": 52,
   "metadata": {},
   "outputs": [
    {
     "name": "stdout",
     "output_type": "stream",
     "text": [
      "--------------------------------------------------------------------------------------------------!CPU times: user 509 ms, sys: 30.6 ms, total: 540 ms\n",
      "Wall time: 8min 14s\n"
     ]
    }
   ],
   "source": [
    "%%time\n",
    "\n",
    "# uncomment, if needed\n",
    "# from sagemaker.pytorch import PyTorchModel\n",
    "\n",
    "\n",
    "# deploy your model to create a predictor\n",
    "predictor = estimator.deploy(initial_instance_count=1, instance_type=\"ml.m4.xlarge\")\n"
   ]
  },
  {
   "cell_type": "markdown",
   "metadata": {},
   "source": [
    "---\n",
    "# Evaluating Your Model\n",
    "\n",
    "Once your model is deployed, you can see how it performs when applied to our test data.\n",
    "\n",
    "The provided cell below, reads in the test data, assuming it is stored locally in `data_dir` and named `test.csv`. The labels and features are extracted from the `.csv` file."
   ]
  },
  {
   "cell_type": "code",
   "execution_count": 53,
   "metadata": {},
   "outputs": [],
   "source": [
    "\"\"\"\n",
    "DON'T MODIFY ANYTHING IN THIS CELL THAT IS BELOW THIS LINE\n",
    "\"\"\"\n",
    "import os\n",
    "\n",
    "# read in test data, assuming it is stored locally\n",
    "test_data = pd.read_csv(os.path.join(data_dir, \"test.csv\"), header=None, names=None)\n",
    "\n",
    "# labels are in the first column\n",
    "test_y = test_data.iloc[:,0]\n",
    "test_x = test_data.iloc[:,1:]"
   ]
  },
  {
   "cell_type": "markdown",
   "metadata": {},
   "source": [
    "## EXERCISE: Determine the accuracy of your model\n",
    "\n",
    "Use your deployed `predictor` to generate predicted, class labels for the test data. Compare those to the *true* labels, `test_y`, and calculate the accuracy as a value between 0 and 1.0 that indicates the fraction of test data that your model classified correctly. You may use [sklearn.metrics](https://scikit-learn.org/stable/modules/classes.html#module-sklearn.metrics) for this calculation.\n",
    "\n",
    "**To pass this project, your model should get at least 90% test accuracy.**"
   ]
  },
  {
   "cell_type": "code",
   "execution_count": 55,
   "metadata": {},
   "outputs": [
    {
     "name": "stdout",
     "output_type": "stream",
     "text": [
      "Test passed!\n"
     ]
    }
   ],
   "source": [
    "# First: generate predicted, class labels\n",
    "test_y_preds = predictor.predict(test_x)\n",
    "\n",
    "\n",
    "\"\"\"\n",
    "DON'T MODIFY ANYTHING IN THIS CELL THAT IS BELOW THIS LINE\n",
    "\"\"\"\n",
    "# test that your model generates the correct number of labels\n",
    "assert len(test_y_preds)==len(test_y), 'Unexpected number of predictions.'\n",
    "print('Test passed!')"
   ]
  },
  {
   "cell_type": "code",
   "execution_count": 56,
   "metadata": {},
   "outputs": [
    {
     "name": "stdout",
     "output_type": "stream",
     "text": [
      "1.0\n",
      "\n",
      "Predicted class labels: \n",
      "[1 1 1 1 1 1 0 0 0 0 0 0 1 1 1 1 1 1 0 1 0 1 1 0 0]\n",
      "\n",
      "True class labels: \n",
      "[1 1 1 1 1 1 0 0 0 0 0 0 1 1 1 1 1 1 0 1 0 1 1 0 0]\n"
     ]
    }
   ],
   "source": [
    "from sklearn import metrics\n",
    "# Second: calculate the test accuracy\n",
    "accuracy = accuracy = metrics.accuracy_score(y_true=test_y, y_pred=test_y_preds)\n",
    "\n",
    "print(accuracy)\n",
    "\n",
    "\n",
    "## print out the array of predicted and true labels, if you want\n",
    "print('\\nPredicted class labels: ')\n",
    "print(test_y_preds)\n",
    "print('\\nTrue class labels: ')\n",
    "print(test_y.values)"
   ]
  },
  {
   "cell_type": "markdown",
   "metadata": {},
   "source": [
    "### Question 1: How many false positives and false negatives did your model produce, if any? And why do you think this is?"
   ]
  },
  {
   "cell_type": "markdown",
   "metadata": {},
   "source": [
    "** Answer**: \n",
    "The accuracy score is 1.0 which means there are no false positives or false negatives. The size of the dataset is small which could result in over-fitting and hence the accuracy score of 1.0."
   ]
  },
  {
   "cell_type": "markdown",
   "metadata": {},
   "source": [
    "### Question 2: How did you decide on the type of model to use? "
   ]
  },
  {
   "cell_type": "markdown",
   "metadata": {},
   "source": [
    "** Answer**:\n",
    "Tree based models are good for classification. I have tried few classifiers like RandomForest and AdaBoost. All of these classifiers produced an accuracy score of 1.0.\n"
   ]
  },
  {
   "cell_type": "markdown",
   "metadata": {},
   "source": [
    "----\n",
    "## EXERCISE: Clean up Resources\n",
    "\n",
    "After you're done evaluating your model, **delete your model endpoint**. You can do this with a call to `.delete_endpoint()`. You need to show, in this notebook, that the endpoint was deleted. Any other resources, you may delete from the AWS console, and you will find more instructions on cleaning up all your resources, below."
   ]
  },
  {
   "cell_type": "code",
   "execution_count": 57,
   "metadata": {},
   "outputs": [],
   "source": [
    "# uncomment and fill in the line below!\n",
    "predictor.delete_endpoint()\n"
   ]
  },
  {
   "cell_type": "markdown",
   "metadata": {},
   "source": [
    "### Deleting S3 bucket\n",
    "\n",
    "When you are *completely* done with training and testing models, you can also delete your entire S3 bucket. If you do this before you are done training your model, you'll have to recreate your S3 bucket and upload your training data again."
   ]
  },
  {
   "cell_type": "code",
   "execution_count": null,
   "metadata": {
    "collapsed": true
   },
   "outputs": [],
   "source": [
    "# deleting bucket, uncomment lines below\n",
    "\n",
    "# bucket_to_delete = boto3.resource('s3').Bucket(bucket)\n",
    "# bucket_to_delete.objects.all().delete()"
   ]
  },
  {
   "cell_type": "markdown",
   "metadata": {},
   "source": [
    "### Deleting all your models and instances\n",
    "\n",
    "When you are _completely_ done with this project and do **not** ever want to revisit this notebook, you can choose to delete all of your SageMaker notebook instances and models by following [these instructions](https://docs.aws.amazon.com/sagemaker/latest/dg/ex1-cleanup.html). Before you delete this notebook instance, I recommend at least downloading a copy and saving it, locally."
   ]
  },
  {
   "cell_type": "markdown",
   "metadata": {},
   "source": [
    "---\n",
    "## Further Directions\n",
    "\n",
    "There are many ways to improve or add on to this project to expand your learning or make this more of a unique project for you. A few ideas are listed below:\n",
    "* Train a classifier to predict the *category* (1-3) of plagiarism and not just plagiarized (1) or not (0).\n",
    "* Utilize a different and larger dataset to see if this model can be extended to other types of plagiarism.\n",
    "* Use language or character-level analysis to find different (and more) similarity features.\n",
    "* Write a complete pipeline function that accepts a source text and submitted text file, and classifies the submitted text as plagiarized or not.\n",
    "* Use API Gateway and a lambda function to deploy your model to a web application.\n",
    "\n",
    "These are all just options for extending your work. If you've completed all the exercises in this notebook, you've completed a real-world application, and can proceed to submit your project. Great job!"
   ]
  }
 ],
 "metadata": {
  "kernelspec": {
   "display_name": "conda_pytorch_p36",
   "language": "python",
   "name": "conda_pytorch_p36"
  },
  "language_info": {
   "codemirror_mode": {
    "name": "ipython",
    "version": 3
   },
   "file_extension": ".py",
   "mimetype": "text/x-python",
   "name": "python",
   "nbconvert_exporter": "python",
   "pygments_lexer": "ipython3",
   "version": "3.6.5"
  }
 },
 "nbformat": 4,
 "nbformat_minor": 2
}
